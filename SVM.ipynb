{
 "cells": [
  {
   "cell_type": "code",
   "execution_count": 24,
   "id": "bc43523b",
   "metadata": {},
   "outputs": [],
   "source": [
    "import numpy as np\n",
    "from sklearn.svm import SVC\n",
    "import json\n",
    "import itertools\n",
    "from sklearn.model_selection import GridSearchCV\n",
    "from sklearn.metrics import f1_score\n",
    "from sklearn.metrics import accuracy_score"
   ]
  },
  {
   "cell_type": "markdown",
   "id": "77490cef",
   "metadata": {},
   "source": [
    "# Data Loading"
   ]
  },
  {
   "cell_type": "code",
   "execution_count": 2,
   "id": "c0f478e9",
   "metadata": {},
   "outputs": [],
   "source": [
    "fileObject = open(\"testing_data.json\", \"r\")\n",
    "jsonContent = fileObject.read()\n",
    "aList = json.loads(jsonContent)\n",
    "fileObject.close()\n",
    "\n",
    "fileObject = open(\"training_data.json\", \"r\")\n",
    "jsonContent = fileObject.read()\n",
    "bList = json.loads(jsonContent)\n",
    "fileObject.close()"
   ]
  },
  {
   "cell_type": "code",
   "execution_count": 3,
   "id": "eb073e40",
   "metadata": {},
   "outputs": [],
   "source": [
    "# training dataset\n",
    "train_ids = []\n",
    "train_data = []\n",
    "train_labels = []\n",
    "\n",
    "for i in range(len(bList['training_data'])):\n",
    "    train_ids.append(bList['training_data'][i]['id'])\n",
    "    datai = list(itertools.chain.from_iterable(bList['training_data'][i]['data']))\n",
    "    train_data.append(datai)\n",
    "    train_labels.append(list(bList['training_data'][i]['labels'].values()))\n",
    "\n",
    "train_lst = train_data\n",
    "train_pad = len(max(train_lst, key=len))\n",
    "X_train = np.array([i + [0]*(train_pad-len(i)) for i in train_lst])"
   ]
  },
  {
   "cell_type": "code",
   "execution_count": 4,
   "id": "90560b36",
   "metadata": {},
   "outputs": [],
   "source": [
    "# test dataset\n",
    "test_ids = []\n",
    "test_data = []\n",
    "test_labels = []\n",
    "\n",
    "for i in range(len(aList['testing_data'])):\n",
    "    test_ids.append(aList['testing_data'][i]['id'])\n",
    "    datai = list(itertools.chain.from_iterable(aList['testing_data'][i]['data']))\n",
    "    test_data.append(datai)\n",
    "    test_labels.append(list(aList['testing_data'][i]['labels'].values()))\n",
    "    \n",
    "test_lst = test_data\n",
    "test_pad = len(max(test_lst, key=len))\n",
    "X_test = np.array([i + [0]*(train_pad-len(i)) for i in test_lst])"
   ]
  },
  {
   "cell_type": "markdown",
   "id": "773c5498",
   "metadata": {},
   "source": [
    "# SVM "
   ]
  },
  {
   "cell_type": "code",
   "execution_count": 15,
   "id": "b9c94061",
   "metadata": {},
   "outputs": [],
   "source": [
    "classes = ['abdominal', 'advanced-cad', 'alcohol-abuse', 'asp-for-mi', 'creatinine', 'dietsupp-2mos', 'drug-abuse', 'english', 'hba1c', 'keto-1yr', 'major-diabetes', 'makes-decisions', 'mi-6mos']"
   ]
  },
  {
   "cell_type": "code",
   "execution_count": 16,
   "id": "0b98af01",
   "metadata": {},
   "outputs": [],
   "source": [
    "# create dictionary\n",
    "d = {}"
   ]
  },
  {
   "cell_type": "code",
   "execution_count": 20,
   "id": "4ae5624a",
   "metadata": {},
   "outputs": [],
   "source": [
    "param_grid = {'C': [0.1, 1, 10], \n",
    "              'gamma': ['scale','auto'],\n",
    "              'kernel': ['rbf']} \n",
    "  \n",
    "grid = GridSearchCV(SVC(), param_grid, refit = True, verbose = 3)\n",
    "\n",
    "svm = SVC(kernel='linear')"
   ]
  },
  {
   "cell_type": "code",
   "execution_count": 21,
   "id": "68c7d2ff",
   "metadata": {},
   "outputs": [],
   "source": [
    "# for each class\n",
    "for i in range(len(np.array(train_labels[0]))):\n",
    "    \n",
    "    y_train = np.array(train_labels)[:,i]\n",
    "    \n",
    "    svm.fit(X_train, y_train)\n",
    "    \n",
    "    y_pred = svm.predict(X_test)\n",
    "    d.update({classes[i]:y_pred})"
   ]
  },
  {
   "cell_type": "code",
   "execution_count": 22,
   "id": "edf90cca",
   "metadata": {},
   "outputs": [
    {
     "data": {
      "text/plain": [
       "{'abdominal': array([0, 0, 0, 0, 0, 0, 0, 0, 0, 0, 0, 0, 0, 0, 0, 0, 0, 0, 0, 0, 0, 0,\n",
       "        0, 0, 0, 0, 0, 0, 0, 0, 0, 0, 0, 0, 0, 0, 0, 0, 0, 0, 0, 0, 0, 0,\n",
       "        0, 0, 0, 0, 0, 0, 0, 0, 0, 0, 0, 0, 0, 0, 0, 0, 0, 0, 0, 0, 0, 0,\n",
       "        0, 0, 0, 0, 0, 0, 0, 0, 0, 0, 0, 0, 0, 0, 0, 0, 0, 0, 0, 0]),\n",
       " 'advanced-cad': array([1, 1, 1, 1, 1, 1, 1, 1, 1, 1, 1, 1, 1, 1, 1, 1, 1, 1, 1, 1, 1, 1,\n",
       "        1, 1, 1, 1, 1, 1, 1, 1, 1, 1, 1, 1, 1, 1, 1, 1, 1, 1, 1, 1, 1, 1,\n",
       "        1, 1, 0, 1, 1, 1, 1, 1, 1, 1, 1, 1, 1, 1, 1, 1, 1, 1, 1, 1, 1, 1,\n",
       "        1, 1, 1, 1, 1, 1, 1, 1, 1, 1, 1, 1, 1, 1, 1, 1, 1, 1, 1, 1]),\n",
       " 'alcohol-abuse': array([0, 0, 0, 0, 0, 0, 0, 0, 0, 0, 0, 0, 0, 0, 0, 0, 0, 0, 0, 0, 0, 0,\n",
       "        0, 0, 0, 0, 0, 0, 0, 0, 0, 0, 0, 0, 0, 0, 0, 0, 0, 0, 0, 0, 0, 0,\n",
       "        0, 0, 0, 0, 0, 0, 0, 0, 0, 0, 0, 0, 0, 0, 0, 0, 0, 0, 0, 0, 0, 0,\n",
       "        0, 0, 0, 0, 0, 0, 0, 0, 0, 0, 0, 0, 0, 0, 0, 0, 0, 0, 0, 0]),\n",
       " 'asp-for-mi': array([1, 1, 1, 1, 1, 1, 1, 1, 1, 1, 1, 1, 1, 1, 1, 1, 1, 1, 1, 1, 1, 1,\n",
       "        1, 1, 1, 1, 1, 1, 1, 1, 1, 1, 1, 1, 1, 1, 1, 1, 1, 1, 1, 1, 1, 1,\n",
       "        1, 1, 1, 1, 1, 1, 1, 1, 1, 1, 1, 1, 1, 1, 1, 1, 1, 1, 1, 1, 1, 1,\n",
       "        1, 1, 1, 1, 1, 1, 1, 1, 1, 1, 1, 1, 1, 1, 1, 1, 1, 1, 1, 1]),\n",
       " 'creatinine': array([0, 0, 0, 0, 0, 0, 0, 1, 0, 0, 1, 0, 1, 0, 0, 0, 0, 1, 0, 0, 1, 0,\n",
       "        0, 0, 0, 0, 1, 1, 0, 0, 0, 1, 0, 0, 0, 1, 1, 0, 0, 0, 0, 1, 0, 1,\n",
       "        0, 1, 1, 1, 1, 0, 0, 0, 0, 1, 0, 0, 0, 0, 0, 0, 0, 0, 0, 0, 1, 0,\n",
       "        0, 0, 0, 0, 1, 1, 0, 1, 0, 0, 1, 0, 0, 0, 0, 1, 1, 1, 0, 0]),\n",
       " 'dietsupp-2mos': array([0, 0, 0, 0, 0, 0, 0, 0, 0, 0, 0, 0, 0, 0, 0, 0, 0, 0, 0, 0, 0, 0,\n",
       "        0, 0, 0, 0, 0, 0, 0, 0, 0, 0, 0, 0, 0, 0, 0, 0, 0, 0, 0, 0, 0, 0,\n",
       "        0, 0, 0, 0, 0, 0, 0, 0, 0, 0, 0, 0, 0, 0, 0, 0, 0, 0, 0, 0, 0, 0,\n",
       "        0, 0, 0, 0, 0, 0, 0, 0, 0, 0, 0, 0, 0, 0, 0, 0, 0, 0, 0, 0]),\n",
       " 'drug-abuse': array([0, 0, 0, 0, 0, 0, 0, 0, 0, 0, 0, 0, 0, 0, 0, 0, 0, 0, 0, 0, 0, 0,\n",
       "        0, 0, 0, 0, 0, 0, 0, 0, 0, 0, 0, 0, 0, 0, 0, 0, 0, 0, 0, 0, 0, 0,\n",
       "        0, 0, 0, 0, 0, 0, 0, 0, 0, 0, 0, 0, 0, 0, 0, 0, 0, 0, 0, 0, 0, 0,\n",
       "        0, 0, 0, 0, 0, 0, 0, 0, 0, 0, 0, 0, 0, 0, 0, 0, 0, 0, 0, 0]),\n",
       " 'english': array([1, 1, 1, 1, 1, 1, 1, 1, 1, 1, 1, 1, 1, 1, 1, 1, 1, 1, 1, 1, 1, 1,\n",
       "        1, 1, 1, 1, 1, 1, 1, 1, 1, 1, 1, 1, 1, 1, 1, 1, 1, 1, 1, 1, 1, 1,\n",
       "        1, 1, 1, 1, 1, 1, 1, 1, 1, 1, 1, 1, 1, 1, 1, 1, 1, 1, 1, 1, 1, 1,\n",
       "        1, 1, 1, 1, 1, 1, 1, 1, 1, 1, 1, 1, 1, 1, 1, 1, 1, 1, 1, 1]),\n",
       " 'hba1c': array([0, 0, 0, 0, 0, 0, 0, 0, 0, 0, 0, 0, 0, 0, 0, 0, 0, 0, 0, 0, 0, 0,\n",
       "        0, 0, 0, 0, 0, 0, 0, 0, 0, 0, 0, 0, 0, 0, 0, 0, 0, 0, 0, 0, 0, 0,\n",
       "        0, 0, 0, 0, 0, 0, 0, 0, 0, 0, 0, 0, 0, 0, 0, 0, 0, 0, 0, 0, 0, 0,\n",
       "        0, 0, 0, 0, 0, 0, 0, 0, 0, 0, 0, 0, 0, 0, 0, 0, 0, 0, 0, 0]),\n",
       " 'keto-1yr': array([0, 0, 0, 0, 0, 0, 0, 0, 0, 0, 0, 0, 0, 0, 0, 0, 0, 0, 0, 0, 0, 0,\n",
       "        0, 0, 0, 0, 0, 0, 0, 0, 0, 0, 0, 0, 0, 0, 0, 0, 0, 0, 0, 0, 0, 0,\n",
       "        0, 0, 0, 0, 0, 0, 0, 0, 0, 0, 0, 0, 0, 0, 0, 0, 0, 0, 0, 0, 0, 0,\n",
       "        0, 0, 0, 0, 0, 0, 0, 0, 0, 0, 0, 0, 0, 0, 0, 0, 0, 0, 0, 0]),\n",
       " 'major-diabetes': array([0, 0, 0, 0, 0, 0, 0, 0, 0, 0, 0, 0, 0, 0, 0, 0, 0, 0, 0, 0, 0, 0,\n",
       "        0, 0, 0, 0, 0, 0, 0, 0, 0, 0, 0, 0, 0, 0, 0, 0, 0, 0, 0, 0, 0, 0,\n",
       "        0, 0, 0, 0, 0, 0, 0, 0, 0, 0, 0, 0, 0, 0, 0, 0, 0, 0, 0, 0, 0, 0,\n",
       "        0, 0, 0, 0, 0, 0, 0, 0, 0, 0, 0, 0, 0, 0, 0, 0, 0, 0, 0, 0]),\n",
       " 'makes-decisions': array([1, 1, 1, 1, 1, 1, 1, 1, 1, 1, 1, 1, 1, 1, 1, 1, 1, 1, 1, 1, 1, 1,\n",
       "        1, 1, 1, 1, 1, 1, 1, 1, 1, 1, 1, 1, 1, 1, 1, 1, 1, 1, 1, 1, 1, 1,\n",
       "        1, 1, 1, 1, 1, 1, 1, 1, 1, 1, 1, 1, 1, 1, 1, 1, 1, 1, 1, 1, 1, 1,\n",
       "        1, 1, 1, 1, 1, 1, 1, 1, 1, 1, 1, 1, 1, 1, 1, 1, 1, 1, 1, 1]),\n",
       " 'mi-6mos': array([0, 0, 0, 0, 0, 0, 0, 0, 0, 0, 0, 0, 0, 0, 0, 0, 0, 0, 0, 0, 0, 0,\n",
       "        0, 0, 0, 0, 0, 0, 0, 0, 0, 0, 0, 0, 0, 0, 0, 0, 0, 0, 0, 0, 0, 0,\n",
       "        0, 0, 0, 0, 0, 0, 0, 0, 0, 0, 0, 0, 0, 0, 0, 0, 0, 0, 0, 0, 0, 0,\n",
       "        0, 0, 0, 0, 0, 0, 0, 0, 0, 0, 0, 0, 0, 0, 0, 0, 0, 0, 0, 0])}"
      ]
     },
     "execution_count": 22,
     "metadata": {},
     "output_type": "execute_result"
    }
   ],
   "source": [
    "d"
   ]
  },
  {
   "cell_type": "markdown",
   "id": "4be6b9ae",
   "metadata": {},
   "source": [
    "# Performance"
   ]
  },
  {
   "cell_type": "code",
   "execution_count": 25,
   "id": "691e458f",
   "metadata": {},
   "outputs": [
    {
     "name": "stdout",
     "output_type": "stream",
     "text": [
      "abdominal 0.0\n",
      "advanced-cad 0.676923076923077\n",
      "alcohol-abuse 0.0\n",
      "asp-for-mi 0.8831168831168831\n",
      "creatinine 0.3673469387755102\n",
      "dietsupp-2mos 0.0\n",
      "drug-abuse 0.0\n",
      "english 0.9182389937106918\n",
      "hba1c 0.0\n",
      "keto-1yr 0.0\n",
      "major-diabetes 0.0\n",
      "makes-decisions 0.9822485207100593\n",
      "mi-6mos 0.0\n"
     ]
    },
    {
     "name": "stderr",
     "output_type": "stream",
     "text": [
      "C:\\Users\\kriut\\anaconda3\\lib\\site-packages\\sklearn\\metrics\\_classification.py:1599: UndefinedMetricWarning: F-score is ill-defined and being set to 0.0 due to no true nor predicted samples. Use `zero_division` parameter to control this behavior.\n",
      "  _warn_prf(average, \"true nor predicted\", \"F-score is\", len(true_sum))\n"
     ]
    }
   ],
   "source": [
    "#f1 score\n",
    "for i in range(len(np.array(train_labels[0]))):\n",
    "    class_ = classes[i]\n",
    "    y_true = np.array(test_labels)[:,i]\n",
    "    y_pred = d[class_]\n",
    "    f1 = f1_score(y_true, y_pred)\n",
    "    print(class_, f1)"
   ]
  },
  {
   "cell_type": "code",
   "execution_count": 26,
   "id": "1d6d5c13",
   "metadata": {},
   "outputs": [
    {
     "name": "stdout",
     "output_type": "stream",
     "text": [
      "abdominal 0.6511627906976745\n",
      "advanced-cad 0.5116279069767442\n",
      "alcohol-abuse 0.9651162790697675\n",
      "asp-for-mi 0.7906976744186046\n",
      "creatinine 0.6395348837209303\n",
      "dietsupp-2mos 0.4883720930232558\n",
      "drug-abuse 0.9651162790697675\n",
      "english 0.8488372093023255\n",
      "hba1c 0.5930232558139535\n",
      "keto-1yr 1.0\n",
      "major-diabetes 0.5\n",
      "makes-decisions 0.9651162790697675\n",
      "mi-6mos 0.9069767441860465\n"
     ]
    }
   ],
   "source": [
    "#accuracy score\n",
    "for i in range(len(np.array(train_labels[0]))):\n",
    "    class_ = classes[i]\n",
    "    y_true = np.array(test_labels)[:,i]\n",
    "    y_pred = d[class_]\n",
    "    accuracy = accuracy_score(y_true, y_pred)\n",
    "    print(class_, accuracy)"
   ]
  },
  {
   "cell_type": "code",
   "execution_count": null,
   "id": "01a5715f",
   "metadata": {},
   "outputs": [],
   "source": []
  }
 ],
 "metadata": {
  "kernelspec": {
   "display_name": "Python 3",
   "language": "python",
   "name": "python3"
  },
  "language_info": {
   "codemirror_mode": {
    "name": "ipython",
    "version": 3
   },
   "file_extension": ".py",
   "mimetype": "text/x-python",
   "name": "python",
   "nbconvert_exporter": "python",
   "pygments_lexer": "ipython3",
   "version": "3.8.8"
  }
 },
 "nbformat": 4,
 "nbformat_minor": 5
}
